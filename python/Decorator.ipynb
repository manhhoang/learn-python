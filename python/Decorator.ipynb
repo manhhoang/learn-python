{
 "cells": [
  {
   "cell_type": "code",
   "execution_count": 24,
   "metadata": {
    "collapsed": true,
    "pycharm": {
     "name": "#%%\n"
    }
   },
   "outputs": [
    {
     "name": "stdout",
     "output_type": "stream",
     "text": [
      "10\n",
      "10\n",
      "10\n",
      "10\n"
     ]
    }
   ],
   "source": [
    "class Person:\n",
    "    age = 10\n",
    "\n",
    "    def __init__(self, name: str):\n",
    "        self.name = name\n",
    "\n",
    "    @classmethod\n",
    "    def class_age(cls) -> int:\n",
    "        return cls.age\n",
    "\n",
    "    @staticmethod\n",
    "    def static_age() -> int:\n",
    "        return Person.age\n",
    "\n",
    "person = Person(\"Mike\")\n",
    "print(Person.static_age())\n",
    "print(person.static_age())\n",
    "\n",
    "print(Person.class_age())\n",
    "print(person.class_age())\n"
   ]
  },
  {
   "cell_type": "code",
   "execution_count": 27,
   "outputs": [
    {
     "name": "stdout",
     "output_type": "stream",
     "text": [
      "test\n"
     ]
    }
   ],
   "source": [
    "class Person:\n",
    "    age = 10\n",
    "\n",
    "    def __init__(self, name: str):\n",
    "        self.name = name\n",
    "\n",
    "    def a(self):\n",
    "        return self.age\n",
    "\n",
    "person = Person(\"test\")\n",
    "print(person.a())"
   ],
   "metadata": {
    "collapsed": false,
    "pycharm": {
     "name": "#%%\n"
    }
   }
  }
 ],
 "metadata": {
  "kernelspec": {
   "display_name": "Python 3",
   "language": "python",
   "name": "python3"
  },
  "language_info": {
   "codemirror_mode": {
    "name": "ipython",
    "version": 2
   },
   "file_extension": ".py",
   "mimetype": "text/x-python",
   "name": "python",
   "nbconvert_exporter": "python",
   "pygments_lexer": "ipython2",
   "version": "2.7.6"
  }
 },
 "nbformat": 4,
 "nbformat_minor": 0
}