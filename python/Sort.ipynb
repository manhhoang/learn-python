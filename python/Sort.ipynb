{
 "cells": [
  {
   "cell_type": "code",
   "execution_count": 4,
   "metadata": {
    "collapsed": true,
    "pycharm": {
     "name": "#%% Basic sort\n"
    }
   },
   "outputs": [
    {
     "name": "stdout",
     "output_type": "stream",
     "text": [
      "[1, 2, 3, 6, 8, 9, 23, 45, 78]\n"
     ]
    }
   ],
   "source": [
    "a = [3, 6, 8, 2, 78, 1, 23, 45, 9]\n",
    "a.sort()\n",
    "print(a)\n"
   ]
  },
  {
   "cell_type": "code",
   "execution_count": 5,
   "outputs": [
    {
     "name": "stdout",
     "output_type": "stream",
     "text": [
      "[78, 45, 23, 9, 8, 6, 3, 2, 1]\n"
     ]
    }
   ],
   "source": [
    "a.sort(reverse=True)\n",
    "print(a)"
   ],
   "metadata": {
    "collapsed": false,
    "pycharm": {
     "name": "#%%\n"
    }
   }
  },
  {
   "cell_type": "code",
   "execution_count": 3,
   "outputs": [
    {
     "name": "stdout",
     "output_type": "stream",
     "text": [
      "{4: 'a', 2: 'b', 3: 'c', 1: 'f', 0: 'i'}\n"
     ]
    }
   ],
   "source": [
    "x = {1: 'f', 3: 'c', 4: 'a', 2: 'b', 0: 'i'}\n",
    "y = {k: v for k, v in sorted(x.items(), key=lambda item: item[1])}\n",
    "print(y)"
   ],
   "metadata": {
    "collapsed": false,
    "pycharm": {
     "name": "#%% Sort dictionary by value\n"
    }
   }
  },
  {
   "cell_type": "code",
   "execution_count": 1,
   "outputs": [
    {
     "name": "stdout",
     "output_type": "stream",
     "text": [
      "{0: 'i', 1: 'f', 2: 'b', 3: 'c', 4: 'a'}\n",
      "\n",
      "\n"
     ]
    }
   ],
   "source": [
    "x = {1: 'f', 3: 'c', 4: 'a', 2: 'b', 0: 'i'}\n",
    "y = {k: v for k, v in sorted(x.items(), key=lambda item: item[0])}\n",
    "print(y)"
   ],
   "metadata": {
    "collapsed": false,
    "pycharm": {
     "name": "#%% Sort dictionary by key\n"
    }
   }
  },
  {
   "cell_type": "code",
   "execution_count": 10,
   "outputs": [
    {
     "name": "stdout",
     "output_type": "stream",
     "text": [
      "[('john', 'A', 15), ('jane', 'B', 12), ('dave', 'B', 10)]\n"
     ]
    }
   ],
   "source": [
    "class Student:\n",
    "    def __init__(self, name, grade, age):\n",
    "        self.name = name\n",
    "        self.grade = grade\n",
    "        self.age = age\n",
    "    def __repr__(self):\n",
    "        return repr((self.name, self.grade, self.age))\n",
    "student_objects = [\n",
    "    Student('john', 'A', 15),\n",
    "    Student('jane', 'B', 12),\n",
    "    Student('dave', 'B', 10),\n",
    "]\n",
    "print(sorted(student_objects, key=lambda student: student.age, reverse=True))\n"
   ],
   "metadata": {
    "collapsed": false,
    "pycharm": {
     "name": "#%% Sort class\n"
    }
   }
  },
  {
   "cell_type": "code",
   "execution_count": null,
   "outputs": [],
   "source": [
    "student_tuples = [\n",
    "    ('john', 'A', 15),\n",
    "    ('jane', 'B', 12),\n",
    "    ('dave', 'B', 10),\n",
    "    ('anna', 'C', 10),\n",
    "]\n",
    "print(sorted(student_tuples, key=lambda student: (student[2], student[0])))\n"
   ],
   "metadata": {
    "collapsed": false,
    "pycharm": {
     "name": "#%% Sort tuples\n"
    }
   }
  },
  {
   "cell_type": "code",
   "execution_count": 12,
   "outputs": [
    {
     "name": "stdout",
     "output_type": "stream",
     "text": [
      "espresso 72\n",
      "latte 56\n",
      "cappuccino 54\n",
      "americano 48\n",
      "cortado 41\n"
     ]
    }
   ],
   "source": [
    "orders = {\n",
    "    'cappuccino': 54,\n",
    "    'latte': 56,\n",
    "    'espresso': 72,\n",
    "    'americano': 48,\n",
    "    'cortado': 41\n",
    "}\n",
    "sort_orders = sorted(orders.items(), key=lambda x: x[1], reverse=True)\n",
    "for i in sort_orders:\n",
    "    print(i[0], i[1])\n"
   ],
   "metadata": {
    "collapsed": false,
    "pycharm": {
     "name": "#%% Sort dictionary\n"
    }
   }
  },
  {
   "cell_type": "code",
   "execution_count": 11,
   "outputs": [
    {
     "name": "stdout",
     "output_type": "stream",
     "text": [
      "'KEY2':{'name': 'chrome', 'date': 20071010, 'downloads': 0}\n",
      "'KEY1':{'name': 'google', 'date': 20100701, 'downloads': 0}\n",
      "'KEY3':{'name': 'python', 'date': 20100710, 'downloads': 100}\n"
     ]
    }
   ],
   "source": [
    "keys = {\n",
    "    'KEY1': {\n",
    "        'name': 'google',\n",
    "        'date': 20100701,\n",
    "        'downloads': 0\n",
    "    },\n",
    "    'KEY2': {\n",
    "        'name': 'chrome',\n",
    "        'date': 20071010,\n",
    "        'downloads': 0\n",
    "    },\n",
    "    'KEY3': {\n",
    "        'name': 'python',\n",
    "        'date': 20100710,\n",
    "        'downloads': 100\n",
    "    }\n",
    "}\n",
    "sorted_key = sorted(keys, key=lambda x: (keys[x]['downloads'], keys[x]['date']))\n",
    "for a in sorted_key:\n",
    "    print(f\"'{a}'\" + ':' + str(keys[a]))\n"
   ],
   "metadata": {
    "collapsed": false,
    "pycharm": {
     "name": "#%% Sort nested dictionary\n"
    }
   }
  }
 ],
 "metadata": {
  "kernelspec": {
   "display_name": "Python 3",
   "language": "python",
   "name": "python3"
  },
  "language_info": {
   "codemirror_mode": {
    "name": "ipython",
    "version": 2
   },
   "file_extension": ".py",
   "mimetype": "text/x-python",
   "name": "python",
   "nbconvert_exporter": "python",
   "pygments_lexer": "ipython2",
   "version": "2.7.6"
  }
 },
 "nbformat": 4,
 "nbformat_minor": 0
}